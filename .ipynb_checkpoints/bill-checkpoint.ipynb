{
 "cells": [
  {
   "cell_type": "code",
   "execution_count": 129,
   "id": "2c394be9-e4fa-40b8-bd91-5acd61bbaa4b",
   "metadata": {},
   "outputs": [],
   "source": [
    "import re\n",
    "def convert_to_numbers(s):\n",
    "   \n",
    "    words_to_numbers = {\n",
    "        'one': '1',\n",
    "        'two': '2',\n",
    "        'three': '3',\n",
    "        'four': '4',\n",
    "        'five': '5',\n",
    "        'six': '6',\n",
    "        'seven': '7',\n",
    "        'eight': '8',\n",
    "        'nine': '9',\n",
    "        'zero': '0'\n",
    "    }\n",
    " \n",
    "    pattern = re.compile(r'\\b(' + '|'.join(words_to_numbers.keys()) + r')\\b')\n",
    "    return re.sub(pattern, lambda x: words_to_numbers[x.group()], s)\n",
    "def reg_num(num_str):\n",
    "    try:\n",
    "        return float(num_str)\n",
    "    except ValueError:\n",
    "        try:\n",
    "            return float(num_str.replace(',', '.'))\n",
    "        except ValueError:\n",
    "            return None  # Return None for invalid numbers\n",
    "class Product:\n",
    "    def __init__(self, qnt, price, name):\n",
    "        self.qnt = reg_num(qnt) \n",
    "        self.UnitPrice =reg_num(price) \n",
    "        self.name = name\n",
    "\n",
    "class BillGenerator:\n",
    "    def __init__(self, text):\n",
    "        self.bill = []\n",
    "        self.text = text\n",
    "        print(self.text)\n",
    "        self.sentences=self.split_text_into_sentences()\n",
    "        for sentence in self.sentences:\n",
    "            nums = self.findNum(sentence)\n",
    "            # Find the positions of \"START\" and \"END\" in the string\n",
    "            start_match = re.search(nums[0], sentence)\n",
    "            end_match = re.search(nums[1], sentence)\n",
    "    # Extract the substrings between \"START\" and \"END\"\n",
    "            start_index = start_match.end()\n",
    "            end_index = end_match.start()\n",
    "            substr_between = sentence[start_index:end_index]\n",
    "            names = self.findName(substr_between)\n",
    "            names = ' '.join(names)\n",
    "            nums = [float(num) if '.' in num else convert_to_numbers(num) for num in nums]\n",
    "            \n",
    "            self.bill.append(Product(nums[0], nums[1], names))\n",
    "            \n",
    "\n",
    "    def printBill(self):\n",
    "        # Print header\n",
    "        print(\"Product\\tQuantity\\tUnitPrice\\tTotalPrice\")\n",
    "        # Iterate over each Product in the bill\n",
    "        for product in self.bill:\n",
    "            # Calculate total price\n",
    "            total_price = product.qnt * product.UnitPrice\n",
    "            # Print product details\n",
    "            print(f\"{product.name}\\t{product.qnt}\\t\\t{product.UnitPrice}\\t\\t{total_price}\")\n",
    "\n",
    "\n",
    "    def split_text_into_sentences(self):\n",
    "    # Define the regular expression pattern to split the text at commas\n",
    "        sentence_pattern = r',(?!\\d)\\s*|and\\s*'\n",
    "    \n",
    "    # Split the text into sentences using the pattern\n",
    "        sentences = re.split(sentence_pattern, self.text)\n",
    "    \n",
    "    # Remove any empty strings or whitespace-only strings from the list\n",
    "        sentences = [sentence.strip() for sentence in sentences if sentence.strip()]\n",
    "    \n",
    "        return sentences\n",
    "        \n",
    "    def findName(self,sentence):\n",
    "        product_name_pattern = r'\\b(?!kilo|with|also|mil|dollar)\\b[A-Za-z]{4,}\\b'  # Regular expression pattern for product name\n",
    "        product_names = re.findall(product_name_pattern, sentence)\n",
    "        return product_names\n",
    "\n",
    "    def findNum(self,sentence):\n",
    "        number_pattern = r\"\\b(\\b\\d+(?:,\\d+)*(?:\\.\\d+)?(?:\\d+(?:,\\d+)*(?:\\.\\d+)?)?\\b|(?:one|two|three|four|five|six|seven|eight|nine|ten|eleven|twelve|thirteen|fourteen|fifteen|sixteen|seventeen|eighteen|nineteen|twenty|thirty|forty|fifty|sixty|seventy|eighty|ninety|hundred|thousand|million|billion|trillion))\\b\"\n",
    "    \n",
    "    # Use the re.findall() function to find all numbers matching the pattern\n",
    "        numbers = re.findall(number_pattern, sentence)\n",
    "        if len(numbers) < 2:\n",
    "            numbers[0] , numbers[1] = 1 , numbers[0]\n",
    "            print(\"here\")\n",
    "        sentence = re.sub(number_pattern, '', sentence)\n",
    "    # Convert the numbers to floats\n",
    "       # numbers = [float(num) if '.' in num else convert_to_numbers(num) for num in numbers]\n",
    "    \n",
    "        return numbers\n",
    "        \n",
    "    #def findQnt(self):\n",
    "    #def findUnitPrice(self):\n",
    "        \n",
    "        \n",
    "        "
   ]
  },
  {
   "cell_type": "code",
   "execution_count": 130,
   "id": "82fc399b-ce58-461d-9455-a652f9534e09",
   "metadata": {},
   "outputs": [
    {
     "name": "stdout",
     "output_type": "stream",
     "text": [
      "I bought three Samsung smartphones 150 $ each, four kilos of fresh banana for 1,2 dollar a kilogram and one Hamburger with 4,5 dollar\n"
     ]
    }
   ],
   "source": [
    "bill = BillGenerator(\"I bought three Samsung smartphones 150 $ each, four kilos of fresh banana for 1,2 dollar a kilogram and one Hamburger with 4,5 dollar\")"
   ]
  },
  {
   "cell_type": "code",
   "execution_count": 131,
   "id": "9e966f01-7236-4c22-947e-05b602883de8",
   "metadata": {},
   "outputs": [
    {
     "name": "stdout",
     "output_type": "stream",
     "text": [
      "Product\tQuantity\tUnitPrice\tTotalPrice\n",
      "Samsung smartphones\t3.0\t\t150.0\t\t450.0\n",
      "fresh banana\t4.0\t\t1.2\t\t4.8\n",
      "Hamburger\t1.0\t\t4.5\t\t4.5\n"
     ]
    }
   ],
   "source": [
    "bill.printBill()"
   ]
  },
  {
   "cell_type": "code",
   "execution_count": 132,
   "id": "72a8358f-cd90-464c-aedd-458b50a39a34",
   "metadata": {},
   "outputs": [
    {
     "name": "stdout",
     "output_type": "stream",
     "text": [
      "yesterday i bought from my friend one jersey for 3 dollars and not oky thay but also a new hat\n"
     ]
    },
    {
     "ename": "IndexError",
     "evalue": "list index out of range",
     "output_type": "error",
     "traceback": [
      "\u001b[0;31m---------------------------------------------------------------------------\u001b[0m",
      "\u001b[0;31mIndexError\u001b[0m                                Traceback (most recent call last)",
      "Cell \u001b[0;32mIn[132], line 1\u001b[0m\n\u001b[0;32m----> 1\u001b[0m bill \u001b[38;5;241m=\u001b[39m \u001b[43mBillGenerator\u001b[49m\u001b[43m(\u001b[49m\u001b[38;5;124;43m\"\u001b[39;49m\u001b[38;5;124;43myesterday i bought from my friend one jersey for 3 dollars and not oky thay but also a new hat\u001b[39;49m\u001b[38;5;124;43m\"\u001b[39;49m\u001b[43m)\u001b[49m\n\u001b[1;32m      2\u001b[0m bill\u001b[38;5;241m.\u001b[39mprintBill()\n",
      "Cell \u001b[0;32mIn[129], line 40\u001b[0m, in \u001b[0;36mBillGenerator.__init__\u001b[0;34m(self, text)\u001b[0m\n\u001b[1;32m     38\u001b[0m \u001b[38;5;28mself\u001b[39m\u001b[38;5;241m.\u001b[39msentences\u001b[38;5;241m=\u001b[39m\u001b[38;5;28mself\u001b[39m\u001b[38;5;241m.\u001b[39msplit_text_into_sentences()\n\u001b[1;32m     39\u001b[0m \u001b[38;5;28;01mfor\u001b[39;00m sentence \u001b[38;5;129;01min\u001b[39;00m \u001b[38;5;28mself\u001b[39m\u001b[38;5;241m.\u001b[39msentences:\n\u001b[0;32m---> 40\u001b[0m     nums \u001b[38;5;241m=\u001b[39m \u001b[38;5;28;43mself\u001b[39;49m\u001b[38;5;241;43m.\u001b[39;49m\u001b[43mfindNum\u001b[49m\u001b[43m(\u001b[49m\u001b[43msentence\u001b[49m\u001b[43m)\u001b[49m\n\u001b[1;32m     41\u001b[0m     \u001b[38;5;66;03m# Find the positions of \"START\" and \"END\" in the string\u001b[39;00m\n\u001b[1;32m     42\u001b[0m     start_match \u001b[38;5;241m=\u001b[39m re\u001b[38;5;241m.\u001b[39msearch(nums[\u001b[38;5;241m0\u001b[39m], sentence)\n",
      "Cell \u001b[0;32mIn[129], line 89\u001b[0m, in \u001b[0;36mBillGenerator.findNum\u001b[0;34m(self, sentence)\u001b[0m\n\u001b[1;32m     87\u001b[0m numbers \u001b[38;5;241m=\u001b[39m re\u001b[38;5;241m.\u001b[39mfindall(number_pattern, sentence)\n\u001b[1;32m     88\u001b[0m \u001b[38;5;28;01mif\u001b[39;00m \u001b[38;5;28mlen\u001b[39m(numbers) \u001b[38;5;241m<\u001b[39m \u001b[38;5;241m2\u001b[39m:\n\u001b[0;32m---> 89\u001b[0m     numbers[\u001b[38;5;241m0\u001b[39m] , numbers[\u001b[38;5;241m1\u001b[39m] \u001b[38;5;241m=\u001b[39m \u001b[38;5;241m1\u001b[39m , \u001b[43mnumbers\u001b[49m\u001b[43m[\u001b[49m\u001b[38;5;241;43m0\u001b[39;49m\u001b[43m]\u001b[49m\n\u001b[1;32m     90\u001b[0m     \u001b[38;5;28mprint\u001b[39m(\u001b[38;5;124m\"\u001b[39m\u001b[38;5;124mhere\u001b[39m\u001b[38;5;124m\"\u001b[39m)\n\u001b[1;32m     91\u001b[0m sentence \u001b[38;5;241m=\u001b[39m re\u001b[38;5;241m.\u001b[39msub(number_pattern, \u001b[38;5;124m'\u001b[39m\u001b[38;5;124m'\u001b[39m, sentence)\n",
      "\u001b[0;31mIndexError\u001b[0m: list index out of range"
     ]
    }
   ],
   "source": [
    "bill = BillGenerator(\"yesterday i bought from my friend one jersey for 3 dollars and not oky thay but also a new hat\")\n",
    "bill.printBill()"
   ]
  },
  {
   "cell_type": "code",
   "execution_count": 77,
   "id": "adbd7eb4-8afb-4a92-85ee-c9a51991d3f9",
   "metadata": {},
   "outputs": [
    {
     "name": "stdout",
     "output_type": "stream",
     "text": [
      "Found: important information\n"
     ]
    }
   ],
   "source": [
    "import re\n",
    "\n",
    "# Example string\n",
    "text = \"This is some text with START some important information END and some other text.\"\n",
    "\n",
    "# First regular expression to find the positions of \"START\" and \"END\"\n",
    "start_pattern = r'START'\n",
    "end_pattern = r'END'\n",
    "\n",
    "# Find the positions of \"START\" and \"END\" in the string\n",
    "start_match = re.search(start_pattern, text)\n",
    "end_match = re.search(end_pattern, text)\n",
    "\n",
    "if start_match and end_match:\n",
    "    # Extract the substrings between \"START\" and \"END\"\n",
    "    start_index = start_match.end()\n",
    "    end_index = end_match.start()\n",
    "    substr_between = text[start_index:end_index]\n",
    "\n",
    "    # Second regular expression to search between \"START\" and \"END\"\n",
    "    search_pattern = r'important information'\n",
    "\n",
    "    # Search between \"START\" and \"END\" using the second regular expression\n",
    "    result = re.search(search_pattern, substr_between)\n",
    "\n",
    "    if result:\n",
    "        print(\"Found:\", result.group())\n",
    "    else:\n",
    "        print(\"Not found\")\n",
    "else:\n",
    "    print(\"Start or end pattern not found\")\n"
   ]
  },
  {
   "cell_type": "code",
   "execution_count": null,
   "id": "a9678002-7a42-4bfe-a05d-3cc2ff5df1fc",
   "metadata": {},
   "outputs": [],
   "source": []
  }
 ],
 "metadata": {
  "kernelspec": {
   "display_name": "Python 3 (ipykernel)",
   "language": "python",
   "name": "python3"
  },
  "language_info": {
   "codemirror_mode": {
    "name": "ipython",
    "version": 3
   },
   "file_extension": ".py",
   "mimetype": "text/x-python",
   "name": "python",
   "nbconvert_exporter": "python",
   "pygments_lexer": "ipython3",
   "version": "3.12.3"
  }
 },
 "nbformat": 4,
 "nbformat_minor": 5
}
